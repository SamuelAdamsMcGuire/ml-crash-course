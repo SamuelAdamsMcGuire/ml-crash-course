{
 "cells": [
  {
   "cell_type": "code",
   "execution_count": null,
   "id": "d3cab536",
   "metadata": {},
   "outputs": [],
   "source": [
    "import pandas as pd\n",
    "import seaborn as sns\n",
    "from sklearn.dummy import DummyClassifier\n",
    "from sklearn.model_selection import train_test_split"
   ]
  },
  {
   "cell_type": "markdown",
   "id": "e46d4383",
   "metadata": {},
   "source": [
    "## Define a goal\n",
    "- predict a penguin species depending on one feature"
   ]
  },
  {
   "cell_type": "markdown",
   "id": "cad9b645",
   "metadata": {},
   "source": [
    "## Get Data"
   ]
  },
  {
   "cell_type": "code",
   "execution_count": null,
   "id": "6021dc26",
   "metadata": {},
   "outputs": [],
   "source": [
    "df = sns.load_dataset('penguins')"
   ]
  },
  {
   "cell_type": "code",
   "execution_count": null,
   "id": "8e06b249",
   "metadata": {},
   "outputs": [],
   "source": [
    "df.head()"
   ]
  },
  {
   "cell_type": "code",
   "execution_count": null,
   "id": "53948801",
   "metadata": {},
   "outputs": [],
   "source": [
    "df.shape"
   ]
  },
  {
   "cell_type": "code",
   "execution_count": null,
   "id": "8c2b2ef7",
   "metadata": {},
   "outputs": [],
   "source": [
    "df['species'].unique()"
   ]
  },
  {
   "cell_type": "code",
   "execution_count": null,
   "id": "24d8d1e2",
   "metadata": {},
   "outputs": [],
   "source": [
    "# defining what we decided our goals were\n",
    "X = df[['flipper_length_mm']]\n",
    "# X must be a matrix aka dataframe in pandas!"
   ]
  },
  {
   "cell_type": "code",
   "execution_count": null,
   "id": "9ac06f0d",
   "metadata": {},
   "outputs": [],
   "source": [
    "y = df['species']\n",
    "# y must be a vector aka series in pandas!"
   ]
  },
  {
   "cell_type": "markdown",
   "id": "b2bae75d",
   "metadata": {},
   "source": [
    "## Train Test Split"
   ]
  },
  {
   "cell_type": "code",
   "execution_count": null,
   "id": "64f0eae6",
   "metadata": {},
   "outputs": [],
   "source": [
    "Xtrain, Xtest, ytrain, ytest = train_test_split(X, y, test_size=0.3)"
   ]
  },
  {
   "cell_type": "code",
   "execution_count": null,
   "id": "336bb1f2",
   "metadata": {},
   "outputs": [],
   "source": [
    "Xtrain.shape, Xtest.shape"
   ]
  },
  {
   "cell_type": "code",
   "execution_count": null,
   "id": "90345028",
   "metadata": {},
   "outputs": [],
   "source": [
    "ytrain.shape, ytest.shape"
   ]
  },
  {
   "cell_type": "markdown",
   "id": "0bca2a8b",
   "metadata": {},
   "source": [
    "## Explore Data\n",
    "\n",
    "- ONLY on training data!!!"
   ]
  },
  {
   "cell_type": "code",
   "execution_count": null,
   "id": "a350a32b",
   "metadata": {},
   "outputs": [],
   "source": [
    "# for visualising the specied column in training data\n",
    "\n",
    "y_vis = pd.DataFrame(ytrain)\n",
    "y_vis.head()"
   ]
  },
  {
   "cell_type": "code",
   "execution_count": null,
   "id": "c6e668a4",
   "metadata": {},
   "outputs": [],
   "source": [
    "sns.countplot(x='species', data=y_vis)"
   ]
  },
  {
   "cell_type": "markdown",
   "id": "1c73c46f",
   "metadata": {},
   "source": [
    "## Feature Engineering\n",
    "\n",
    "- leave on to do list"
   ]
  },
  {
   "cell_type": "markdown",
   "id": "42b68da4",
   "metadata": {},
   "source": [
    "## Train model - on training data!!"
   ]
  },
  {
   "cell_type": "code",
   "execution_count": null,
   "id": "6297af88",
   "metadata": {},
   "outputs": [],
   "source": [
    "m = DummyClassifier(strategy='most_frequent') #define model"
   ]
  },
  {
   "cell_type": "code",
   "execution_count": null,
   "id": "c2bc1427",
   "metadata": {},
   "outputs": [],
   "source": [
    "Xtrain.shape"
   ]
  },
  {
   "cell_type": "code",
   "execution_count": null,
   "id": "ab4fd949",
   "metadata": {},
   "outputs": [],
   "source": [
    "Xtest.shape"
   ]
  },
  {
   "cell_type": "code",
   "execution_count": null,
   "id": "820f440a",
   "metadata": {},
   "outputs": [],
   "source": [
    "m.fit(Xtrain, ytrain) # training"
   ]
  },
  {
   "cell_type": "markdown",
   "id": "d9ff5a93",
   "metadata": {},
   "source": [
    "## Evalution of the model on traing and test data!"
   ]
  },
  {
   "cell_type": "code",
   "execution_count": null,
   "id": "ea24f03e",
   "metadata": {},
   "outputs": [],
   "source": [
    "training_score = m.score(Xtrain, ytrain)\n",
    "training_score"
   ]
  },
  {
   "cell_type": "code",
   "execution_count": null,
   "id": "5b25d20e",
   "metadata": {},
   "outputs": [],
   "source": [
    "# if there was any feature engineering the test data would \n",
    "# also now be preprocessed (normalised, one-hot encoded....ect) the same way as training data before "
   ]
  },
  {
   "cell_type": "code",
   "execution_count": null,
   "id": "f09e2d98",
   "metadata": {},
   "outputs": [],
   "source": [
    "test_score = m.score(Xtest, ytest) # test result for unseen data\n",
    "test_score"
   ]
  },
  {
   "cell_type": "markdown",
   "id": "b9cd81d5",
   "metadata": {},
   "source": [
    "## Predicting all on the test data"
   ]
  },
  {
   "cell_type": "code",
   "execution_count": null,
   "id": "0c34c368",
   "metadata": {},
   "outputs": [],
   "source": [
    "Xtest"
   ]
  },
  {
   "cell_type": "code",
   "execution_count": null,
   "id": "b726ae78",
   "metadata": {},
   "outputs": [],
   "source": [
    "m.predict(Xtest)"
   ]
  },
  {
   "cell_type": "markdown",
   "id": "e6ba5880",
   "metadata": {},
   "source": [
    "## Making single predictions - extra stuff not needed for project"
   ]
  },
  {
   "cell_type": "code",
   "execution_count": null,
   "id": "57a31d74",
   "metadata": {},
   "outputs": [],
   "source": [
    "Xtest.loc[119]"
   ]
  },
  {
   "cell_type": "code",
   "execution_count": null,
   "id": "888f3ae0",
   "metadata": {},
   "outputs": [],
   "source": [
    "m.predict(Xtest.loc[119]) #prediction"
   ]
  },
  {
   "cell_type": "code",
   "execution_count": null,
   "id": "b180ce5b",
   "metadata": {},
   "outputs": [],
   "source": [
    "ytest.loc[119] #ground truth"
   ]
  },
  {
   "cell_type": "code",
   "execution_count": null,
   "id": "07622dd0",
   "metadata": {},
   "outputs": [],
   "source": [
    "m.predict_proba(Xtest.loc[119]) # ditribution of the probability of the prediction"
   ]
  },
  {
   "cell_type": "code",
   "execution_count": null,
   "id": "c5daf11c-0d7a-44ba-a233-72f31fe88577",
   "metadata": {},
   "outputs": [],
   "source": []
  },
  {
   "cell_type": "code",
   "execution_count": null,
   "id": "f172df47-4546-44ff-9a32-c0e97310f3b4",
   "metadata": {},
   "outputs": [],
   "source": []
  }
 ],
 "metadata": {
  "kernelspec": {
   "display_name": "Python 3 (ipykernel)",
   "language": "python",
   "name": "python3"
  },
  "language_info": {
   "codemirror_mode": {
    "name": "ipython",
    "version": 3
   },
   "file_extension": ".py",
   "mimetype": "text/x-python",
   "name": "python",
   "nbconvert_exporter": "python",
   "pygments_lexer": "ipython3",
   "version": "3.12.6"
  }
 },
 "nbformat": 4,
 "nbformat_minor": 5
}
