{
 "cells": [
  {
   "cell_type": "markdown",
   "metadata": {},
   "source": [
    "# Bike sharing demand in Washington, D.C.\n",
    "\n",
    "\n",
    "## This gives a kaggle score of ~0.5181\n",
    "\n",
    "\n",
    "https://www.kaggle.com/c/bike-sharing-demand/data\n",
    "\n",
    "\n",
    "- hourly rental data spanning two years\n",
    "- the training set is comprised of the first 19 days of each month, while the test set is the 20th to the end of the month\n",
    "- goal: predict the total **count** of bikes rented during each hour covered by the test set, using only information available prior to the rental period\n",
    "- evaluation based on [Root Mean Squared Logarithmic Error](https://scikit-learn.org/stable/modules/generated/sklearn.metrics.mean_squared_log_error.html)\n",
    "- **model should only use information which was available prior to the time for which it is forecasting**"
   ]
  },
  {
   "cell_type": "code",
   "execution_count": null,
   "metadata": {},
   "outputs": [],
   "source": [
    "import pandas as pd\n",
    "import numpy as np\n",
    "from sklearn import metrics\n",
    "from sklearn.multioutput import MultiOutputRegressor\n",
    "from sklearn.preprocessing import FunctionTransformer\n",
    "from sklearn.ensemble import RandomForestRegressor\n",
    "from sklearn.linear_model import PoissonRegressor\n",
    "from sklearn.model_selection import train_test_split\n",
    "from sklearn.compose import make_column_transformer\n",
    "from sklearn.pipeline import make_pipeline\n",
    "import seaborn as sns\n",
    "import matplotlib.pyplot as plt\n",
    "from sklearn.model_selection import GridSearchCV\n",
    "from sklearn.preprocessing import PolynomialFeatures, OneHotEncoder, StandardScaler"
   ]
  },
  {
   "cell_type": "markdown",
   "metadata": {},
   "source": [
    "### Get Data - Test Train Split"
   ]
  },
  {
   "cell_type": "code",
   "execution_count": null,
   "metadata": {},
   "outputs": [],
   "source": [
    "train = pd.read_csv('./data/train.csv', parse_dates=[0])\n",
    "test = pd.read_csv('./data/test.csv', parse_dates=[0])\n",
    "submission = pd.read_csv('./data/sampleSubmission.csv', parse_dates=[0])\n",
    "train.head()"
   ]
  },
  {
   "cell_type": "markdown",
   "metadata": {},
   "source": [
    "### Explore Data"
   ]
  },
  {
   "cell_type": "code",
   "execution_count": null,
   "metadata": {},
   "outputs": [],
   "source": []
  },
  {
   "cell_type": "markdown",
   "metadata": {},
   "source": [
    "### Feature Engineering"
   ]
  },
  {
   "cell_type": "code",
   "execution_count": null,
   "metadata": {},
   "outputs": [],
   "source": [
    "def create_date_features(df):\n",
    "    x = df['datetime']\n",
    "    return pd.DataFrame({\n",
    "        'month': x.dt.month,\n",
    "        'hour': x.dt.hour,\n",
    "        'week': x.dt.isocalendar().week,\n",
    "        'weekday': x.dt.weekday\n",
    "    })"
   ]
  },
  {
   "cell_type": "markdown",
   "metadata": {},
   "source": [
    "### Define preprocessing pipeline"
   ]
  },
  {
   "cell_type": "code",
   "execution_count": null,
   "metadata": {},
   "outputs": [],
   "source": [
    "datetime_pipeline = make_pipeline(\n",
    "    FunctionTransformer(create_date_features, validate=False),\n",
    "    OneHotEncoder(handle_unknown='ignore')\n",
    ")\n",
    "\n",
    "\n",
    "transformer = make_column_transformer(\n",
    "    (datetime_pipeline, ['datetime']),\n",
    "    (StandardScaler(), ['temp', 'atemp', 'humidity', 'windspeed']),         \n",
    "    (OneHotEncoder(handle_unknown='ignore'), ['season', 'weather']),\n",
    "    ('passthrough', ['workingday', 'holiday'])\n",
    ")\n"
   ]
  },
  {
   "cell_type": "markdown",
   "metadata": {},
   "source": [
    "### Define model pipeline"
   ]
  },
  {
   "cell_type": "code",
   "execution_count": null,
   "metadata": {},
   "outputs": [],
   "source": [
    "model_pipeline = make_pipeline(\n",
    "    transformer, \n",
    "    PolynomialFeatures(), \n",
    "    MultiOutputRegressor(PoissonRegressor(max_iter=10000))\n",
    ")"
   ]
  },
  {
   "cell_type": "markdown",
   "metadata": {},
   "source": [
    "### Hyperparatmeter Optimization"
   ]
  },
  {
   "cell_type": "code",
   "execution_count": null,
   "metadata": {},
   "outputs": [],
   "source": [
    "model_pipeline.get_params().keys()"
   ]
  },
  {
   "cell_type": "code",
   "execution_count": null,
   "metadata": {},
   "outputs": [],
   "source": [
    "param_grid = {\n",
    "    'polynomialfeatures__degree': [1, 2], \n",
    "    'multioutputregressor__estimator__alpha': [0.001, 0.01, 0.1, 1, 10]\n",
    "}"
   ]
  },
  {
   "cell_type": "markdown",
   "metadata": {},
   "source": [
    "### Define model input and output"
   ]
  },
  {
   "cell_type": "code",
   "execution_count": null,
   "metadata": {},
   "outputs": [],
   "source": [
    "X_train = train.drop(['casual','registered', 'count'], axis=1)\n",
    "y_train = train[['casual','registered']]"
   ]
  },
  {
   "cell_type": "markdown",
   "metadata": {},
   "source": [
    "### Define customized evaluation metric"
   ]
  },
  {
   "cell_type": "code",
   "execution_count": null,
   "metadata": {},
   "outputs": [],
   "source": [
    "def rmsle(y, y_pred):\n",
    "    # sum up y and y_pred\n",
    "    y = np.sum(y, axis=1)\n",
    "    y_pred = np.sum(y_pred, axis=1)    \n",
    "    # set negative predictions to zero\n",
    "    y_pred[y_pred < 0] = 0\n",
    "    return np.sqrt(metrics.mean_squared_log_error(y, y_pred))\n",
    "\n",
    "neg_rmsle_score = metrics.make_scorer(rmsle, greater_is_better=False)"
   ]
  },
  {
   "cell_type": "markdown",
   "metadata": {},
   "source": [
    "### Define Grid Search and train"
   ]
  },
  {
   "cell_type": "code",
   "execution_count": null,
   "metadata": {
    "scrolled": true
   },
   "outputs": [],
   "source": [
    "cv = GridSearchCV(\n",
    "    model_pipeline, \n",
    "    param_grid, \n",
    "    return_train_score=True, \n",
    "    scoring=neg_rmsle_score, \n",
    "    cv=5, \n",
    "    n_jobs=4, \n",
    "    refit=True,\n",
    "    verbose=1\n",
    ")\n",
    "cv.fit(X_train, y_train)\n",
    "cv_res = pd.DataFrame(cv.cv_results_)"
   ]
  },
  {
   "cell_type": "markdown",
   "metadata": {},
   "source": [
    "### Check results"
   ]
  },
  {
   "cell_type": "code",
   "execution_count": null,
   "metadata": {},
   "outputs": [],
   "source": [
    "cv_res[[\n",
    "    'param_polynomialfeatures__degree',\n",
    "    'param_multioutputregressor__estimator__alpha',\n",
    "    'mean_train_score', \n",
    "    'mean_test_score'\n",
    "]].abs()"
   ]
  },
  {
   "cell_type": "code",
   "execution_count": null,
   "metadata": {},
   "outputs": [],
   "source": [
    "cv.best_params_"
   ]
  },
  {
   "cell_type": "markdown",
   "metadata": {},
   "source": [
    "## Make predictions on entire test set"
   ]
  },
  {
   "cell_type": "code",
   "execution_count": null,
   "metadata": {},
   "outputs": [],
   "source": [
    "y_pred = cv.best_estimator_.predict(test)\n",
    "y_pred = y_pred.sum(axis=1)\n",
    "assert all(y_pred >= 0)"
   ]
  },
  {
   "cell_type": "markdown",
   "metadata": {},
   "source": [
    "## Make prediction on one sample and compare to ground truth"
   ]
  },
  {
   "cell_type": "code",
   "execution_count": null,
   "metadata": {},
   "outputs": [],
   "source": [
    "test.sample(1)"
   ]
  },
  {
   "cell_type": "code",
   "execution_count": null,
   "metadata": {},
   "outputs": [],
   "source": [
    "test_x = train[test.columns].sample(1)"
   ]
  },
  {
   "cell_type": "code",
   "execution_count": null,
   "metadata": {},
   "outputs": [],
   "source": [
    "test_x"
   ]
  },
  {
   "cell_type": "code",
   "execution_count": null,
   "metadata": {},
   "outputs": [],
   "source": [
    "cv.best_estimator_.predict(test_x)"
   ]
  },
  {
   "cell_type": "code",
   "execution_count": null,
   "metadata": {},
   "outputs": [],
   "source": [
    "train.iloc[[test_x.index.item()]]"
   ]
  },
  {
   "cell_type": "code",
   "execution_count": null,
   "metadata": {},
   "outputs": [],
   "source": []
  },
  {
   "cell_type": "code",
   "execution_count": null,
   "metadata": {},
   "outputs": [],
   "source": []
  }
 ],
 "metadata": {
  "kernelspec": {
   "display_name": "Python 3 (ipykernel)",
   "language": "python",
   "name": "python3"
  },
  "language_info": {
   "codemirror_mode": {
    "name": "ipython",
    "version": 3
   },
   "file_extension": ".py",
   "mimetype": "text/x-python",
   "name": "python",
   "nbconvert_exporter": "python",
   "pygments_lexer": "ipython3",
   "version": "3.12.6"
  }
 },
 "nbformat": 4,
 "nbformat_minor": 4
}
